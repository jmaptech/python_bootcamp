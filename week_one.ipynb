{
  "nbformat": 4,
  "nbformat_minor": 0,
  "metadata": {
    "colab": {
      "provenance": [],
      "authorship_tag": "ABX9TyMH97Ci3Rd8+a33c8sajMsf",
      "include_colab_link": true
    },
    "kernelspec": {
      "name": "python3",
      "display_name": "Python 3"
    },
    "language_info": {
      "name": "python"
    }
  },
  "cells": [
    {
      "cell_type": "markdown",
      "metadata": {
        "id": "view-in-github",
        "colab_type": "text"
      },
      "source": [
        "<a href=\"https://colab.research.google.com/github/jmaptech/python_bootcamp/blob/main/week_one.ipynb\" target=\"_parent\"><img src=\"https://colab.research.google.com/assets/colab-badge.svg\" alt=\"Open In Colab\"/></a>"
      ]
    },
    {
      "cell_type": "code",
      "execution_count": null,
      "metadata": {
        "colab": {
          "base_uri": "https://localhost:8080/"
        },
        "id": "q0uazrIvgPRL",
        "outputId": "af97d4c7-6ace-4a1b-9853-25a2df03e585"
      },
      "outputs": [
        {
          "output_type": "stream",
          "name": "stdout",
          "text": [
            "{\"id\":\"c825b6201944a99734d34dd13e01b83b\",\"text\":\"The Black Widow spider eats her mate during or after sex.\",\"source\":\"djtech.net\",\"source_url\":\"http://www.djtech.net/humor/useless_facts.htm\",\"language\":\"en\",\"permalink\":\"https://uselessfacts.jsph.pl/api/v2/facts/c825b6201944a99734d34dd13e01b83b\"}\n",
            "\n"
          ]
        }
      ],
      "source": [
        "import requests\n",
        "response = requests.get('http://uselessfacts.jsph.pl/random.json?language=en')\n",
        "print(response.text)"
      ]
    },
    {
      "cell_type": "code",
      "source": [
        "query_parameters={'language':'en'}\n",
        "response = requests.get('http://uselessfacts.jsph.pl/random.json',params=query_parameters)\n",
        "print(response.json().get('text'))"
      ],
      "metadata": {
        "colab": {
          "base_uri": "https://localhost:8080/"
        },
        "id": "axMV4jIon3W2",
        "outputId": "eef142e5-48a9-420f-c2ec-d8751b4132a5"
      },
      "execution_count": null,
      "outputs": [
        {
          "output_type": "stream",
          "name": "stdout",
          "text": [
            "The word \"Checkmate\" in chess comes from the Persian phrase \"Shah Mat,\" which means \"the king is dead.\"\n"
          ]
        }
      ]
    },
    {
      "cell_type": "markdown",
      "source": [
        "#Data Structures\n",
        "The important ones are **lists, dictionaries and sets**."
      ],
      "metadata": {
        "id": "ZyqM1P76XYlW"
      }
    },
    {
      "cell_type": "code",
      "source": [
        "data = ['Nico', 'You']\n",
        "print(data[1])\n",
        "data.append('Jimmy')\n",
        "data.append(['hello'])\n",
        "data.append(5)\n",
        "print(data)"
      ],
      "metadata": {
        "colab": {
          "base_uri": "https://localhost:8080/"
        },
        "id": "E0U8OXL3Xvud",
        "outputId": "569fe6a8-837a-4571-de65-50077a4532f7"
      },
      "execution_count": null,
      "outputs": [
        {
          "output_type": "stream",
          "name": "stdout",
          "text": [
            "You\n",
            "['Nico', 'You', 'Jimmy', ['hello'], 5]\n"
          ]
        }
      ]
    },
    {
      "cell_type": "markdown",
      "source": [
        "##List Slicing\n",
        "The fisrt number - starting position (inclusive)  \n",
        "The second number - stopping postion (exclusive)  \n",
        "The third number - the step  "
      ],
      "metadata": {
        "id": "BVrvYpsgZoiN"
      }
    },
    {
      "cell_type": "code",
      "source": [],
      "metadata": {
        "id": "XP3vDMI1ZnxF"
      },
      "execution_count": null,
      "outputs": []
    },
    {
      "cell_type": "code",
      "source": [
        "data = ['Nico', 'Caleb', 'Jimmy', 'Samantha']\n",
        "\n",
        "print(data[1:3])"
      ],
      "metadata": {
        "colab": {
          "base_uri": "https://localhost:8080/"
        },
        "id": "65hw-2tQY1KC",
        "outputId": "dbc24e57-93ea-4d4a-bd01-e9431dbaf3d9"
      },
      "execution_count": null,
      "outputs": [
        {
          "output_type": "stream",
          "name": "stdout",
          "text": [
            "['Caleb', 'Jimmy']\n"
          ]
        }
      ]
    },
    {
      "cell_type": "markdown",
      "source": [],
      "metadata": {
        "id": "momt4jhOZThi"
      }
    },
    {
      "cell_type": "markdown",
      "source": [
        "## Dictionaries and Sets"
      ],
      "metadata": {
        "id": "992-fM6sbH3R"
      }
    },
    {
      "cell_type": "code",
      "source": [
        "data = {'Nico', 'Caleb', 'Jimmy', 'Samantha', 'Monica'}\n",
        "data_dictionary = {'Nico': 5, 'Caleb': 30, 'Jimmy': 26, 'Samantha':12, 'Monica':10}\n",
        "print(data)\n",
        "print(data_dictionary.get('Nico'))"
      ],
      "metadata": {
        "colab": {
          "base_uri": "https://localhost:8080/"
        },
        "id": "C7ROb3DZbLyD",
        "outputId": "4a3714c3-9fd6-4f93-e8cd-25bd780f747f"
      },
      "execution_count": null,
      "outputs": [
        {
          "output_type": "stream",
          "name": "stdout",
          "text": [
            "{'Monica', 'Samantha', 'Nico', 'Jimmy', 'Caleb'}\n",
            "5\n"
          ]
        }
      ]
    },
    {
      "cell_type": "markdown",
      "source": [
        "# Control flow - Loops & Conditionals"
      ],
      "metadata": {
        "id": "2BIZWy4kYLp6"
      }
    },
    {
      "cell_type": "code",
      "source": [
        "data =['a', 'b', 'c', 'd', 'e']\n",
        "#1\n",
        "for i in range(10):\n",
        "  print(i, end=\" \")\n",
        "print(\"\")\n",
        "#2\n",
        "for i in range(len(data)):\n",
        "  print(data[i], end=\" \")\n",
        "print(\"\")\n",
        "#3\n",
        "data = {'Nico', 'Caleb', 'Jimmy', 'Samantha', 'Monica'}\n",
        "for letter in data:\n",
        "  print(letter, end=\" \")\n",
        "print(\"\")\n",
        "#Better way\n",
        "for i, letter in enumerate(data):\n",
        " print(i,letter, end=\" \")\n",
        "\n"
      ],
      "metadata": {
        "colab": {
          "base_uri": "https://localhost:8080/"
        },
        "id": "q5bTi4iXYRtt",
        "outputId": "f915fbac-0718-4b02-9a84-3bb87a3272fd"
      },
      "execution_count": null,
      "outputs": [
        {
          "output_type": "stream",
          "name": "stdout",
          "text": [
            "0 1 2 3 4 5 6 7 8 9 \n",
            "a b c d e \n",
            "Jimmy Caleb Nico Samantha Monica \n",
            "0 Jimmy 1 Caleb 2 Nico 3 Samantha 4 Monica "
          ]
        }
      ]
    },
    {
      "cell_type": "code",
      "source": [
        "data =['a', 'b', 'c', 'd', 'e']\n",
        "i = 0\n",
        "while i < len(data):\n",
        "  print(data[i], end=\" \")\n",
        "  i+=1\n",
        "\n",
        "while True:\n",
        "  x = input()\n",
        "  if x == \"stop\":\n",
        "    break\n",
        "  elif x == \"special\":\n",
        "    continue\n",
        "  print(\"printing data....\")"
      ],
      "metadata": {
        "colab": {
          "base_uri": "https://localhost:8080/"
        },
        "id": "NNho-cbGdsuI",
        "outputId": "a3ec0293-c1a0-481d-cd1b-dd1ce0703ce7"
      },
      "execution_count": null,
      "outputs": [
        {
          "name": "stdout",
          "output_type": "stream",
          "text": [
            "a b c d e special\n",
            "aass\n",
            "printing data....\n",
            "stop\n"
          ]
        }
      ]
    },
    {
      "cell_type": "code",
      "source": [
        "data_dictionary = {'Nico': 5, 'Caleb': 30, 'Jimmy': 26, 'Samantha':12, 'Monica':10}\n",
        "\n",
        "for key, value in data_dictionary.items():\n",
        "  print(key, value)"
      ],
      "metadata": {
        "colab": {
          "base_uri": "https://localhost:8080/"
        },
        "id": "5DQ_-Sh_o5DJ",
        "outputId": "c8d763ae-a8a1-4933-c6da-172919b134c3"
      },
      "execution_count": null,
      "outputs": [
        {
          "output_type": "stream",
          "name": "stdout",
          "text": [
            "Nico 5\n",
            "Caleb 30\n",
            "Jimmy 26\n",
            "Samantha 12\n",
            "Monica 10\n"
          ]
        }
      ]
    },
    {
      "cell_type": "code",
      "source": [
        "from random import randint\n",
        "\n",
        "\n",
        "low = 0\n",
        "high = 100\n",
        "correct = randint(low,high)\n",
        "print(f'Guess a number between {low} and {high}.' )\n",
        "\n",
        "while True:\n",
        "  guess = int(input())\n",
        "  if guess < correct:\n",
        "    print('Guess higher')\n",
        "  elif guess > correct:\n",
        "    print('Guess lower')\n",
        "  else:\n",
        "    print('You win!')\n",
        "    break"
      ],
      "metadata": {
        "colab": {
          "base_uri": "https://localhost:8080/"
        },
        "id": "sFUlYisXrGiS",
        "outputId": "efebd33c-83c0-473d-d166-1c86d72eaab4"
      },
      "execution_count": null,
      "outputs": [
        {
          "output_type": "stream",
          "name": "stdout",
          "text": [
            "Guess a number between 0 and 100.\n",
            "34\n",
            "Guess higher\n",
            "56\n",
            "Guess higher\n",
            "80\n",
            "Guess higher\n",
            "90\n",
            "Guess higher\n",
            "95\n",
            "Guess higher\n",
            "100\n",
            "You win!\n"
          ]
        }
      ]
    },
    {
      "cell_type": "markdown",
      "source": [],
      "metadata": {
        "id": "s6etrTHUYLKH"
      }
    },
    {
      "cell_type": "markdown",
      "source": [],
      "metadata": {
        "id": "e1XygQ6xhIRb"
      }
    }
  ]
}