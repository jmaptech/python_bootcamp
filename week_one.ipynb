{
 "cells": [
  {
   "cell_type": "markdown",
   "metadata": {
    "colab_type": "text",
    "id": "view-in-github"
   },
   "source": [
    "<a href=\"https://colab.research.google.com/github/jmaptech/python_bootcamp/blob/main/week_one.ipynb\" target=\"_parent\"><img src=\"https://colab.research.google.com/assets/colab-badge.svg\" alt=\"Open In Colab\"/></a>"
   ]
  },
  {
   "cell_type": "code",
   "execution_count": null,
   "metadata": {
    "colab": {
     "base_uri": "https://localhost:8080/"
    },
    "id": "q0uazrIvgPRL",
    "outputId": "af97d4c7-6ace-4a1b-9853-25a2df03e585"
   },
   "outputs": [
    {
     "name": "stdout",
     "output_type": "stream",
     "text": [
      "{\"id\":\"c825b6201944a99734d34dd13e01b83b\",\"text\":\"The Black Widow spider eats her mate during or after sex.\",\"source\":\"djtech.net\",\"source_url\":\"http://www.djtech.net/humor/useless_facts.htm\",\"language\":\"en\",\"permalink\":\"https://uselessfacts.jsph.pl/api/v2/facts/c825b6201944a99734d34dd13e01b83b\"}\n",
      "\n"
     ]
    }
   ],
   "source": [
    "import requests\n",
    "response = requests.get('http://uselessfacts.jsph.pl/random.json?language=en')\n",
    "print(response.text)"
   ]
  },
  {
   "cell_type": "code",
   "execution_count": null,
   "metadata": {
    "colab": {
     "base_uri": "https://localhost:8080/"
    },
    "id": "axMV4jIon3W2",
    "outputId": "eef142e5-48a9-420f-c2ec-d8751b4132a5"
   },
   "outputs": [
    {
     "name": "stdout",
     "output_type": "stream",
     "text": [
      "The word \"Checkmate\" in chess comes from the Persian phrase \"Shah Mat,\" which means \"the king is dead.\"\n"
     ]
    }
   ],
   "source": [
    "query_parameters={'language':'en'}\n",
    "response = requests.get('http://uselessfacts.jsph.pl/random.json',params=query_parameters)\n",
    "print(response.json().get('text'))"
   ]
  },
  {
   "cell_type": "markdown",
   "metadata": {
    "id": "ZyqM1P76XYlW"
   },
   "source": [
    "#Data Structures\n",
    "The important ones are **lists, dictionaries and sets**."
   ]
  },
  {
   "cell_type": "code",
   "execution_count": null,
   "metadata": {
    "colab": {
     "base_uri": "https://localhost:8080/"
    },
    "id": "E0U8OXL3Xvud",
    "outputId": "569fe6a8-837a-4571-de65-50077a4532f7"
   },
   "outputs": [
    {
     "name": "stdout",
     "output_type": "stream",
     "text": [
      "You\n",
      "['Nico', 'You', 'Jimmy', ['hello'], 5]\n"
     ]
    }
   ],
   "source": [
    "data = ['Nico', 'You']\n",
    "print(data[1])\n",
    "data.append('Jimmy')\n",
    "data.append(['hello'])\n",
    "data.append(5)\n",
    "print(data)"
   ]
  },
  {
   "cell_type": "markdown",
   "metadata": {
    "id": "BVrvYpsgZoiN"
   },
   "source": [
    "##List Slicing\n",
    "The fisrt number - starting position (inclusive)  \n",
    "The second number - stopping postion (exclusive)  \n",
    "The third number - the step  "
   ]
  },
  {
   "cell_type": "code",
   "execution_count": null,
   "metadata": {
    "id": "XP3vDMI1ZnxF"
   },
   "outputs": [],
   "source": []
  },
  {
   "cell_type": "code",
   "execution_count": null,
   "metadata": {
    "colab": {
     "base_uri": "https://localhost:8080/"
    },
    "id": "65hw-2tQY1KC",
    "outputId": "dbc24e57-93ea-4d4a-bd01-e9431dbaf3d9"
   },
   "outputs": [
    {
     "name": "stdout",
     "output_type": "stream",
     "text": [
      "['Caleb', 'Jimmy']\n"
     ]
    }
   ],
   "source": [
    "data = ['Nico', 'Caleb', 'Jimmy', 'Samantha']\n",
    "\n",
    "print(data[1:3])"
   ]
  },
  {
   "cell_type": "markdown",
   "metadata": {
    "id": "momt4jhOZThi"
   },
   "source": []
  },
  {
   "cell_type": "markdown",
   "metadata": {
    "id": "992-fM6sbH3R"
   },
   "source": [
    "## Dictionaries and Sets"
   ]
  },
  {
   "cell_type": "code",
   "execution_count": null,
   "metadata": {
    "colab": {
     "base_uri": "https://localhost:8080/"
    },
    "id": "C7ROb3DZbLyD",
    "outputId": "4a3714c3-9fd6-4f93-e8cd-25bd780f747f"
   },
   "outputs": [
    {
     "name": "stdout",
     "output_type": "stream",
     "text": [
      "{'Monica', 'Samantha', 'Nico', 'Jimmy', 'Caleb'}\n",
      "5\n"
     ]
    }
   ],
   "source": [
    "data = {'Nico', 'Caleb', 'Jimmy', 'Samantha', 'Monica'}\n",
    "data_dictionary = {'Nico': 5, 'Caleb': 30, 'Jimmy': 26, 'Samantha':12, 'Monica':10}\n",
    "print(data)\n",
    "print(data_dictionary.get('Nico'))"
   ]
  },
  {
   "cell_type": "markdown",
   "metadata": {
    "id": "2BIZWy4kYLp6"
   },
   "source": [
    "# Control flow - Loops & Conditionals"
   ]
  },
  {
   "cell_type": "code",
   "execution_count": null,
   "metadata": {
    "colab": {
     "base_uri": "https://localhost:8080/"
    },
    "id": "q5bTi4iXYRtt",
    "outputId": "f915fbac-0718-4b02-9a84-3bb87a3272fd"
   },
   "outputs": [
    {
     "name": "stdout",
     "output_type": "stream",
     "text": [
      "0 1 2 3 4 5 6 7 8 9 \n",
      "a b c d e \n",
      "Jimmy Caleb Nico Samantha Monica \n",
      "0 Jimmy 1 Caleb 2 Nico 3 Samantha 4 Monica "
     ]
    }
   ],
   "source": [
    "data =['a', 'b', 'c', 'd', 'e']\n",
    "#1\n",
    "for i in range(10):\n",
    "  print(i, end=\" \")\n",
    "print(\"\")\n",
    "#2\n",
    "for i in range(len(data)):\n",
    "  print(data[i], end=\" \")\n",
    "print(\"\")\n",
    "#3\n",
    "data = {'Nico', 'Caleb', 'Jimmy', 'Samantha', 'Monica'}\n",
    "for letter in data:\n",
    "  print(letter, end=\" \")\n",
    "print(\"\")\n",
    "#Better way\n",
    "for i, letter in enumerate(data):\n",
    " print(i,letter, end=\" \")\n",
    "\n"
   ]
  },
  {
   "cell_type": "code",
   "execution_count": null,
   "metadata": {
    "colab": {
     "base_uri": "https://localhost:8080/"
    },
    "id": "NNho-cbGdsuI",
    "outputId": "a3ec0293-c1a0-481d-cd1b-dd1ce0703ce7"
   },
   "outputs": [
    {
     "name": "stdout",
     "output_type": "stream",
     "text": [
      "a b c d e special\n",
      "aass\n",
      "printing data....\n",
      "stop\n"
     ]
    }
   ],
   "source": [
    "data =['a', 'b', 'c', 'd', 'e']\n",
    "i = 0\n",
    "while i < len(data):\n",
    "  print(data[i], end=\" \")\n",
    "  i+=1\n",
    "\n",
    "while True:\n",
    "  x = input()\n",
    "  if x == \"stop\":\n",
    "    break\n",
    "  elif x == \"special\":\n",
    "    continue\n",
    "  print(\"printing data....\")"
   ]
  },
  {
   "cell_type": "code",
   "execution_count": null,
   "metadata": {
    "colab": {
     "base_uri": "https://localhost:8080/"
    },
    "id": "5DQ_-Sh_o5DJ",
    "outputId": "c8d763ae-a8a1-4933-c6da-172919b134c3"
   },
   "outputs": [
    {
     "name": "stdout",
     "output_type": "stream",
     "text": [
      "Nico 5\n",
      "Caleb 30\n",
      "Jimmy 26\n",
      "Samantha 12\n",
      "Monica 10\n"
     ]
    }
   ],
   "source": [
    "data_dictionary = {'Nico': 5, 'Caleb': 30, 'Jimmy': 26, 'Samantha':12, 'Monica':10}\n",
    "\n",
    "for key, value in data_dictionary.items():\n",
    "  print(key, value)"
   ]
  },
  {
   "cell_type": "code",
   "execution_count": null,
   "metadata": {
    "colab": {
     "base_uri": "https://localhost:8080/"
    },
    "id": "sFUlYisXrGiS",
    "outputId": "efebd33c-83c0-473d-d166-1c86d72eaab4"
   },
   "outputs": [
    {
     "name": "stdout",
     "output_type": "stream",
     "text": [
      "Guess a number between 0 and 100.\n",
      "34\n",
      "Guess higher\n",
      "56\n",
      "Guess higher\n",
      "80\n",
      "Guess higher\n",
      "90\n",
      "Guess higher\n",
      "95\n",
      "Guess higher\n",
      "100\n",
      "You win!\n"
     ]
    }
   ],
   "source": [
    "from random import randint\n",
    "\n",
    "\n",
    "low = 0\n",
    "high = 100\n",
    "correct = randint(low,high)\n",
    "print(f'Guess a number between {low} and {high}.' )\n",
    "\n",
    "while True:\n",
    "  guess = int(input())\n",
    "  if guess < correct:\n",
    "    print('Guess higher')\n",
    "  elif guess > correct:\n",
    "    print('Guess lower')\n",
    "  else:\n",
    "    print('You win!')\n",
    "    break"
   ]
  },
  {
   "cell_type": "markdown",
   "metadata": {
    "id": "s6etrTHUYLKH"
   },
   "source": [
    "print(\"Small local change\")"
   ]
  },
  {
   "cell_type": "markdown",
   "metadata": {
    "id": "e1XygQ6xhIRb"
   },
   "source": []
  }
 ],
 "metadata": {
  "colab": {
   "authorship_tag": "ABX9TyMH97Ci3Rd8+a33c8sajMsf",
   "include_colab_link": true,
   "provenance": []
  },
  "kernelspec": {
   "display_name": "Python 3 (ipykernel)",
   "language": "python",
   "name": "python3"
  },
  "language_info": {
   "codemirror_mode": {
    "name": "ipython",
    "version": 3
   },
   "file_extension": ".py",
   "mimetype": "text/x-python",
   "name": "python",
   "nbconvert_exporter": "python",
   "pygments_lexer": "ipython3",
   "version": "3.12.6"
  }
 },
 "nbformat": 4,
 "nbformat_minor": 4
}
